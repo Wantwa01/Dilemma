{
 "cells": [
  {
   "cell_type": "code",
   "execution_count": 94,
   "id": "c1bb09e7-5e56-43ae-918c-ea69f23bc2a6",
   "metadata": {},
   "outputs": [],
   "source": [
    "#App to help you pick a choice when you cant pick any on your own hahahaha\n"
    "import tkinter as tk\n",
    "from tkinter import filedialog, messagebox\n",
    "import sqlite3\n",
    "import random"
   ]
  },
  {
   "cell_type": "code",
   "execution_count": 95,
   "id": "1dc66944-5aae-4461-bcf5-4be26f84ff41",
   "metadata": {},
   "outputs": [
    {
     "data": {
      "text/plain": [
       "''"
      ]
     },
     "execution_count": 95,
     "metadata": {},
     "output_type": "execute_result"
    }
   ],
   "source": [
    "root = tk.Tk()\n",
    "menu = tk.Menu(root)\n",
    "root.title(\"Dilemma\")\n",
    "root.geometry(\"400x400\")"
   ]
  },
  {
   "cell_type": "code",
   "execution_count": 96,
   "id": "d28e872a",
   "metadata": {},
   "outputs": [],
   "source": [
    "file_menu = tk.Menu(menu, tearoff=0)\n",
    "file_menu.add_command(label=\"Menu\", command=(show_all_options))"
   ]
  },
  {
   "cell_type": "code",
   "execution_count": 97,
   "id": "5f487fb6-3c4c-435c-a2de-9cff63c5384c",
   "metadata": {},
   "outputs": [],
   "source": [
    "#choices = ['study', 'netflix', 'gaming', 'visit friends']\n",
    "\n",
    "def display_data(dataframe):\n",
    "    text.delete(\"1.0\", tk.END)\n",
    "    text.insert(tk.END, choices)\n",
    "\n",
    "def create_table():\n",
    "    conn = sqlite3.connect(\"user_data.db\")\n",
    "    cursor = conn.cursor()\n",
    "    cursor.execute(\"\"\"\n",
    "    CREATE TABLE IF NOT EXISTS users (\n",
    "        id INTEGER PRIMARY KEY AUTOINCREMENT,\n",
    "        option TEXT NOT NULL\n",
    "    )\n",
    "    \"\"\")\n",
    "    conn.commit()\n",
    "    conn.close()\n",
    "\n",
    "def save_data():\n",
    "    option = entry_option.get()\n",
    "\n",
    "    if option:\n",
    "        connection = sqlite3.connect('user_data.db')\n",
    "        cursor = connection.cursor()\n",
    "        cursor.execute(\"INSERT INTO users (option) VALUES (?)\", (option,))\n",
    "        connection.commit()\n",
    "        connection.close()\n",
    "        #messagebox.showinfo(\"Success\", \"Data saved successfully !!\")\n",
    "\n",
    "        entry_option.delete(0, tk.END)\n",
    "    else:\n",
    "        messagebox.showwarning(\"Error\", \"Please enter an option before proceeding.\")\n",
    "\n",
    "def show_data():\n",
    "    conn = sqlite3.connect('user_data.db')\n",
    "    cursor = conn.cursor()\n",
    "    cursor.execute(\"SELECT option FROM users\")\n",
    "    rows = cursor.fetchall()\n",
    "    conn.close()\n",
    "\n",
    "    if rows:\n",
    "        random_option = random.choice(rows)[0]\n",
    "        messagebox.showinfo(\"Dilemma solved\", f\"Here the randomly selected task for you : \\n {random_option}\")\n",
    "\n",
    "#         result = \"\"\n",
    "#         for row in rows:\n",
    "#             result += f\"ID : {rows.index(row) + 1}, option : {row[0]}\\n\"\n",
    "#         messagebox.showinfo(\"OPTION\", result)\n",
    "    else:\n",
    "        messagebox.showinfo(\"No data found\", \"No options found in the database!\")\n",
    "\n",
    "        \n",
    "        \n",
    "def show_all_options():\n",
    "    conn = sqlite3.connect('user_data.db')\n",
    "    cursor = conn.cursor()\n",
    "    cursor.execute(\"SELECT * FROM users\")\n",
    "    rows = cursor.fetchall()\n",
    "    conn.close()\n",
    "    \n",
    "    output = \"\"\n",
    "    for row in rows:\n",
    "        output += f\"Option {rows.index(row) + 1} = {row[1]}\\n\"\n",
    "    messagebox.showinfo(\"OPTIONS\", output)"
   ]
  },
  {
   "cell_type": "code",
   "execution_count": 98,
   "id": "1045df58-f464-44a2-b224-3d86f73c5de6",
   "metadata": {},
   "outputs": [],
   "source": [
    "tk.Label(root, text=\"Option\").grid(row=0, column=2)\n",
    "entry_option = tk.Entry(root)\n",
    "entry_option.grid(row=0, column=3)\n",
    "\n",
    "tk.Button(root, text=\"Add option\", command=save_data).grid(row=1, column=3, pady=10)\n",
    "tk.Button(root, text=\"Solve dilemma\", command=show_data).grid(row=2, column=3, pady=10)\n",
    "tk.Button(root, text=\"Show all options\", command=show_all_options).grid(row=3, column=3, pady=10)"
   ]
  },
  {
   "cell_type": "code",
   "execution_count": 99,
   "id": "fde133bd-2e1e-48e3-9d00-c5cec7d6ce3b",
   "metadata": {},
   "outputs": [],
   "source": [
    "create_table()\n",
    "root.mainloop()"
   ]
  },
  {
   "cell_type": "code",
   "execution_count": null,
   "id": "e0d90440-907a-40c2-b636-d3a953c7198c",
   "metadata": {},
   "outputs": [],
   "source": []
  }
 ],
 "metadata": {
  "kernelspec": {
   "display_name": "Python 3 (ipykernel)",
   "language": "python",
   "name": "python3"
  },
  "language_info": {
   "codemirror_mode": {
    "name": "ipython",
    "version": 3
   },
   "file_extension": ".py",
   "mimetype": "text/x-python",
   "name": "python",
   "nbconvert_exporter": "python",
   "pygments_lexer": "ipython3",
   "version": "3.11.8"
  }
 },
 "nbformat": 4,
 "nbformat_minor": 5
}
